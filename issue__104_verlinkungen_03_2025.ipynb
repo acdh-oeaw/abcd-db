{
 "cells": [
  {
   "cell_type": "code",
   "execution_count": null,
   "id": "86caea5a-01df-46b0-84d7-9e4a989ddc56",
   "metadata": {},
   "outputs": [],
   "source": [
    "# run against production 2025-03-24\n",
    "from django.core.exceptions import ObjectDoesNotExist\n",
    "from tqdm import tqdm\n",
    "\n",
    "from archiv.models import Event, Person, Place\n",
    "from archiv.import_utils import gsheet_to_df"
   ]
  },
  {
   "cell_type": "code",
   "execution_count": null,
   "id": "a6172706-ae6d-4076-a676-95df531b9fca",
   "metadata": {},
   "outputs": [],
   "source": [
    "sheet_id = \"1AQUhx0FGQHrsGCoH17751mJTenmynxRtCl2BrWV7BlQ\""
   ]
  },
  {
   "cell_type": "code",
   "execution_count": null,
   "id": "ec125df7-d53b-469d-acab-d70e4888a4a6",
   "metadata": {},
   "outputs": [],
   "source": [
    "df = gsheet_to_df(sheet_id)"
   ]
  },
  {
   "cell_type": "code",
   "execution_count": null,
   "id": "d1d33ec3-6189-4fba-a5fc-c1c3850a3dd7",
   "metadata": {},
   "outputs": [],
   "source": [
    "for g, ndf in tqdm(df.groupby(\"entity\")):\n",
    "    ent = Person.objects.get(id=g)\n",
    "    for i, row in ndf.iterrows():\n",
    "        try:\n",
    "            event = Event.objects.get(id=row[\"article\"])\n",
    "        except ObjectDoesNotExist:\n",
    "            print(row[\"article\"])\n",
    "        event.person.add(ent)\n",
    "        "
   ]
  },
  {
   "cell_type": "code",
   "execution_count": null,
   "id": "293329a4-ea94-42ff-933c-5c89841d39e0",
   "metadata": {},
   "outputs": [],
   "source": [
    "ent.id"
   ]
  },
  {
   "cell_type": "code",
   "execution_count": null,
   "id": "b0f0ab8a-455d-4495-b61e-19872925314b",
   "metadata": {},
   "outputs": [],
   "source": [
    "sheet_id = \"1tQSE_IonJU8wkAeM7yO6Kt9nrZh5-nNrv-oZn3oT6Ko\"\n",
    "df = gsheet_to_df(sheet_id)"
   ]
  },
  {
   "cell_type": "code",
   "execution_count": null,
   "id": "43ca3a09-2b5a-4c93-aac3-4e02a16c7554",
   "metadata": {},
   "outputs": [],
   "source": [
    "df.head()"
   ]
  },
  {
   "cell_type": "code",
   "execution_count": null,
   "id": "04a27e79-17c2-4899-9f0e-9e1df89b0fc9",
   "metadata": {},
   "outputs": [],
   "source": [
    "event_does_not_exist = []\n",
    "for g, ndf in tqdm(df.groupby(\"entity\")):\n",
    "    ent = Place.objects.get(id=g)\n",
    "    for i, row in ndf.iterrows():\n",
    "        try:\n",
    "            event = Event.objects.get(id=row[\"article\"])\n",
    "        except ObjectDoesNotExist:\n",
    "            event_does_not_exist.append(row[\"article\"])\n",
    "            continue\n",
    "        event.place.add(ent)"
   ]
  },
  {
   "cell_type": "code",
   "execution_count": null,
   "id": "88102882-a127-4f60-9879-c02d5e2fd807",
   "metadata": {},
   "outputs": [],
   "source": [
    "ent.id"
   ]
  },
  {
   "cell_type": "code",
   "execution_count": null,
   "id": "6fd1e8ee-e674-4fdf-9da1-9d80524d6043",
   "metadata": {},
   "outputs": [],
   "source": [
    "sheet_id = \"1heHWFmlY8V2GMnlfqoTM4vUhAC8TkBv2UBbGxrja1Ac\""
   ]
  },
  {
   "cell_type": "code",
   "execution_count": null,
   "id": "524ffd76-1ac7-47fe-b9f5-0af85d3a14ca",
   "metadata": {},
   "outputs": [],
   "source": [
    "df = gsheet_to_df(sheet_id)"
   ]
  },
  {
   "cell_type": "code",
   "execution_count": null,
   "id": "0a174e78-7cdb-4bfb-be75-5737f0bed227",
   "metadata": {},
   "outputs": [],
   "source": [
    "for g, ndf in tqdm(df.groupby(\"entity\")):\n",
    "    ent = SkosConcept.objects.get(id=g)\n",
    "    for i, row in ndf.iterrows():\n",
    "        try:\n",
    "            event = Event.objects.get(id=row[\"article\"])\n",
    "        except ObjectDoesNotExist:\n",
    "            print(row[\"article\"])\n",
    "        event.concept.add(ent)"
   ]
  },
  {
   "cell_type": "code",
   "execution_count": null,
   "id": "bb914b4c-13dd-42be-8024-a3df90ea2a33",
   "metadata": {},
   "outputs": [],
   "source": [
    "ent.id"
   ]
  },
  {
   "cell_type": "code",
   "execution_count": null,
   "id": "f9b4b479-053f-488a-b547-86d0d594fb5d",
   "metadata": {},
   "outputs": [],
   "source": []
  }
 ],
 "metadata": {
  "kernelspec": {
   "display_name": "Django Shell-Plus",
   "language": "python",
   "name": "django_extensions"
  },
  "language_info": {
   "codemirror_mode": {
    "name": "ipython",
    "version": 3
   },
   "file_extension": ".py",
   "mimetype": "text/x-python",
   "name": "python",
   "nbconvert_exporter": "python",
   "pygments_lexer": "ipython3",
   "version": "3.12.3"
  }
 },
 "nbformat": 4,
 "nbformat_minor": 5
}
